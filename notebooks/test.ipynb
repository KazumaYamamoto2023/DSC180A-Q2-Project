{
 "cells": [
  {
   "cell_type": "code",
   "execution_count": 1,
   "metadata": {},
   "outputs": [
    {
     "name": "stderr",
     "output_type": "stream",
     "text": [
      "/Users/stephengelinas/.local/lib/python3.7/site-packages/pandas/compat/numpy/__init__.py:10: DeprecationWarning: distutils Version classes are deprecated. Use packaging.version instead.\n",
      "  _nlv = LooseVersion(_np_version)\n",
      "/Users/stephengelinas/opt/anaconda3/lib/python3.7/site-packages/setuptools/_distutils/version.py:346: DeprecationWarning: distutils Version classes are deprecated. Use packaging.version instead.\n",
      "  other = LooseVersion(other)\n",
      "/Users/stephengelinas/.local/lib/python3.7/site-packages/pandas/compat/numpy/function.py:120: DeprecationWarning: distutils Version classes are deprecated. Use packaging.version instead.\n",
      "  if LooseVersion(__version__) >= LooseVersion(\"1.17.0\"):\n",
      "/Users/stephengelinas/.local/lib/python3.7/site-packages/pandas/compat/_optional.py:116: DeprecationWarning: distutils Version classes are deprecated. Use packaging.version instead.\n",
      "  if distutils.version.LooseVersion(version) < minimum_version:\n",
      "/Users/stephengelinas/opt/anaconda3/lib/python3.7/site-packages/scipy/fft/__init__.py:97: DeprecationWarning: The module numpy.dual is deprecated.  Instead of using dual, use the functions directly from numpy or scipy.\n",
      "  from numpy.dual import register_func\n",
      "/Users/stephengelinas/opt/anaconda3/lib/python3.7/site-packages/scipy/sparse/sputils.py:17: DeprecationWarning: `np.typeDict` is a deprecated alias for `np.sctypeDict`.\n",
      "  supported_dtypes = [np.typeDict[x] for x in supported_dtypes]\n",
      "/Users/stephengelinas/opt/anaconda3/lib/python3.7/site-packages/scipy/special/orthogonal.py:81: DeprecationWarning: `np.int` is a deprecated alias for the builtin `int`. To silence this warning, use `int` by itself. Doing this will not modify any behavior and is safe. When replacing `np.int`, you may wish to use e.g. `np.int64` or `np.int32` to specify the precision. If you wish to review your current use, check the release note link for additional information.\n",
      "Deprecated in NumPy 1.20; for more details and guidance: https://numpy.org/devdocs/release/1.20.0-notes.html#deprecations\n",
      "  from numpy import (exp, inf, pi, sqrt, floor, sin, cos, around, int,\n"
     ]
    },
    {
     "data": {
      "text/plain": [
       "('f9r3r58ifp50em4olsofsca3hnng6ejh', 1679171225, '2023-03-18 20:27:05')"
      ]
     },
     "execution_count": 1,
     "metadata": {},
     "output_type": "execute_result"
    }
   ],
   "source": [
    "# Imports\n",
    "import pyTigerGraph as tg\n",
    "import json\n",
    "import os\n",
    "import pandas as pd\n",
    "import xgboost as xgb\n",
    "import numpy as np\n",
    "import torch\n",
    "import torch.nn.functional as F\n",
    "from torch_geometric.nn import GraphSAGE, GCN, GAT\n",
    "from pyTigerGraph.gds.metrics import Accumulator\n",
    "from pyTigerGraph.gds.metrics import Accuracy\n",
    "\n",
    "# import TigerGraph instance config\n",
    "os.chdir('../config/')\n",
    "with open('tigergraph.json', 'r') as f:\n",
    "    config = json.load(f)\n",
    "\n",
    "# Connection parameters\n",
    "hostName = config['host']\n",
    "secret = config['secret']\n",
    "\n",
    "conn = tg.TigerGraphConnection(host=hostName, gsqlSecret=secret, graphname=\"Ethereum\")\n",
    "conn.getToken(secret)"
   ]
  },
  {
   "cell_type": "code",
   "execution_count": 4,
   "metadata": {},
   "outputs": [],
   "source": [
    "from pyTigerGraph.gds.metrics import Accuracy, BinaryPrecision, BinaryRecall\n",
    "from collections import defaultdict\n",
    "\n",
    "metrics = defaultdict(list)\n",
    "m = Accuracy()\n",
    "m = BinaryPrecision()\n",
    "m = BinaryRecall()"
   ]
  },
  {
   "cell_type": "code",
   "execution_count": 6,
   "metadata": {},
   "outputs": [],
   "source": [
    "hp = {\"in_dim\": 11, \"hidden_dim\": 32, \"num_layers\": 3, \"lr\": 0.005, \"l2_penalty\": 5e-5}\n",
    "device = torch.device(\"cuda\" if torch.cuda.is_available() else \"cpu\")\n",
    "#data = data.to(device)\n",
    "\n",
    "# initialize model\n",
    "model = GAT(\n",
    "    in_channels=hp[\"in_dim\"],\n",
    "    hidden_channels=hp[\"hidden_dim\"],\n",
    "    num_layers=hp[\"num_layers\"],\n",
    "    out_channels=hp[\"in_dim\"],\n",
    "    heads=8\n",
    ").to(device)\n",
    "\n",
    "# set optimizer\n",
    "optimizer = torch.optim.Adam(\n",
    "    model.parameters(), lr=hp[\"lr\"], weight_decay=hp[\"l2_penalty\"]\n",
    ")"
   ]
  },
  {
   "cell_type": "code",
   "execution_count": 12,
   "metadata": {},
   "outputs": [
    {
     "data": {
      "text/plain": [
       "tensor([ True,  True,  True,  ..., False, False, False])"
      ]
     },
     "execution_count": 12,
     "metadata": {},
     "output_type": "execute_result"
    }
   ],
   "source": [
    "train_loader.data.is_train"
   ]
  },
  {
   "cell_type": "code",
   "execution_count": null,
   "metadata": {},
   "outputs": [],
   "source": [
    "logs = {}\n",
    "for epoch in range(100):\n",
    "    # train model\n",
    "    model.train()\n",
    "    acc = Accuracy()\n",
    "    # forward pass\n",
    "    out = model(data.x.float(), data.edge_index)\n",
    "    # compute loss\n",
    "    loss = F.cross_entropy(out[data.is_train].float(), data.y[data.is_train].long())\n",
    "    # backward pass\n",
    "    optimizer.zero_grad()\n",
    "    loss.backward()\n",
    "    optimizer.step()\n",
    "    # evaluate model on test set\n",
    "    val_acc = Accuracy()\n",
    "    with torch.no_grad():\n",
    "        pred = out.argmax(dim=1)\n",
    "        acc.update(pred[data.is_train], data.y[data.is_train])\n",
    "        valid_loss = F.cross_entropy(out[data.is_test].float(), data.y[data.is_test].long())\n",
    "        val_acc.update(pred[data.is_test], data.y[data.is_test])\n",
    "    # logs\n",
    "    logs[\"loss\"] = loss.item()\n",
    "    logs[\"test_loss\"] = valid_loss.item()\n",
    "    logs[\"acc\"] = acc.value\n",
    "    logs[\"test_acc\"] = val_acc.value\n",
    "    print(\"Epoch: {:02d}, Train Loss: {:.4f}, Test Loss: {:.4f}, Train Accuracy: {:.4f}, Test Accuracy: {:.4f}\".format(\n",
    "            epoch, logs[\"loss\"], logs[\"test_loss\"], logs[\"acc\"], logs[\"test_acc\"]))"
   ]
  },
  {
   "cell_type": "code",
   "execution_count": null,
   "metadata": {},
   "outputs": [],
   "source": [
    "model.eval()\n",
    "acc = Accuracy()\n",
    "with torch.no_grad():\n",
    "    pred = model(data.x.float(), data.edge_index).argmax(dim=1)\n",
    "    acc.update(pred[data.is_test], data.y[data.is_test])\n",
    "return acc.value"
   ]
  },
  {
   "cell_type": "code",
   "execution_count": null,
   "metadata": {},
   "outputs": [],
   "source": []
  }
 ],
 "metadata": {
  "kernelspec": {
   "display_name": "Python 3",
   "language": "python",
   "name": "python3"
  },
  "language_info": {
   "codemirror_mode": {
    "name": "ipython",
    "version": 3
   },
   "file_extension": ".py",
   "mimetype": "text/x-python",
   "name": "python",
   "nbconvert_exporter": "python",
   "pygments_lexer": "ipython3",
   "version": "3.7.6"
  },
  "vscode": {
   "interpreter": {
    "hash": "31f2aee4e71d21fbe5cf8b01ff0e069b9275f58929596ceb00d14d90e3e16cd6"
   }
  }
 },
 "nbformat": 4,
 "nbformat_minor": 2
}
