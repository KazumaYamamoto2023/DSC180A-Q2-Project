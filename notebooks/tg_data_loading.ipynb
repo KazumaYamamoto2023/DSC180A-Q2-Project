{
 "cells": [
  {
   "attachments": {},
   "cell_type": "markdown",
   "metadata": {},
   "source": [
    "# Connecting and Uploading Data to TigerGraph\n",
    "This notebook will demonstrate connecting to an existing TigerGraph database instance, publishing a graph schema, and uploading data to our graph. To get started, create and launch a free cluster on [TigerGraph Cloud](tgcloud.io) and publish an empty graph in GraphStudio named 'Ethereum'."
   ]
  },
  {
   "cell_type": "code",
   "execution_count": 41,
   "metadata": {},
   "outputs": [
    {
     "data": {
      "text/plain": [
       "('7jn0cs0ha36du2t16804r9jbkpe8pmgt', 1677976411, '2023-03-05 00:33:31')"
      ]
     },
     "execution_count": 41,
     "metadata": {},
     "output_type": "execute_result"
    }
   ],
   "source": [
    "# Imports\n",
    "import pyTigerGraph as tg\n",
    "import json\n",
    "import os\n",
    "\n",
    "# Import TigerGraph instance config\n",
    "os.chdir('../config/')\n",
    "with open('tigergraph.json', 'r') as f:\n",
    "    config = json.load(f)\n",
    "\n",
    "# Connection parameters\n",
    "hostName = config['host']\n",
    "secret = config['secret']\n",
    "\n",
    "conn = tg.TigerGraphConnection(host=hostName, gsqlSecret=secret, graphname=\"Ethereum\")\n",
    "conn.getToken(secret)"
   ]
  },
  {
   "attachments": {},
   "cell_type": "markdown",
   "metadata": {},
   "source": [
    "### Define and Publish Graph Schema\n",
    "In this section, we will publish our graph schema to TigerGraph, from which we will construct our Ethereum transaction graph. The graph schema is as follows:\n",
    "* Nodes = Wallets <br />\n",
    "* Directed Edges = Transactions"
   ]
  },
  {
   "cell_type": "code",
   "execution_count": 35,
   "metadata": {},
   "outputs": [
    {
     "name": "stdout",
     "output_type": "stream",
     "text": [
      "Using graph 'Ethereum2'\n",
      "Successfully created schema change jobs: [build_schema2].\n",
      "Kick off schema change job build_schema2\n",
      "Doing schema change on graph 'Ethereum2' (current version: 2)\n",
      "Trying to add local vertex 'Wallet' to the graph 'Ethereum2'.\n",
      "Trying to add local edge 'sent_eth' and its reverse edge 'reverse_sent_eth' to the graph 'Ethereum2'.\n",
      "\n",
      "Graph Ethereum2 updated to new version 3\n",
      "The job build_schema2 completes in 1.075 seconds!\n"
     ]
    }
   ],
   "source": [
    "# DEFINE / CREATE ALL EDGES AND VERTICES in Global View\n",
    "results = conn.gsql('''\n",
    "  USE GRAPH Ethereum\n",
    "  CREATE SCHEMA_CHANGE JOB build_schema FOR GRAPH Ethereum {\n",
    "      ADD VERTEX Wallet (PRIMARY_ID id INT, label FLOAT, has_label BOOL, is_train BOOL, is_test BOOL, in_degree INT, out_degree INT, send_min DOUBLE, total_sent DOUBLE, recv_min DOUBLE, recv_amount DOUBLE, pagerank DOUBLE) WITH primary_id_as_attribute=\"true\";\n",
    "      ADD DIRECTED EDGE sent_eth (from Wallet, to Wallet, amount FLOAT, n_transactions INT, timestamp INT) WITH REVERSE_EDGE=\"reverse_sent_eth\";\n",
    "  }\n",
    "  RUN SCHEMA_CHANGE JOB build_schema\n",
    "''')\n",
    "print(results)"
   ]
  },
  {
   "attachments": {},
   "cell_type": "markdown",
   "metadata": {},
   "source": [
    "### Create Loading Jobs\n",
    "We will now create custom loading jobs to map the values from our datasets to vertex and edge attributes for our transaction graph."
   ]
  },
  {
   "attachments": {},
   "cell_type": "markdown",
   "metadata": {},
   "source": [
    "#### Wallets"
   ]
  },
  {
   "cell_type": "code",
   "execution_count": 36,
   "metadata": {},
   "outputs": [
    {
     "name": "stdout",
     "output_type": "stream",
     "text": [
      "Using graph 'Ethereum2'\n",
      "Successfully created loading jobs: [load_wallets].\n"
     ]
    }
   ],
   "source": [
    "# Custom loading job that maps the values of nodes.csv to VERTEX attributes\n",
    "results = conn.gsql('''\n",
    "  USE GRAPH Ethereum\n",
    "  BEGIN\n",
    "  CREATE LOADING JOB load_wallets FOR GRAPH Ethereum {\n",
    "    DEFINE FILENAME MyDataSource;\n",
    "    LOAD MyDataSource TO VERTEX Wallet VALUES($1, $2, $3, $4, $5, _, _, _, _, _, _, _) USING SEPARATOR=\",\", HEADER=\"true\", EOL=\"\\n\";\n",
    "  }\n",
    "  END\n",
    "  ''')\n",
    "print(results)"
   ]
  },
  {
   "attachments": {},
   "cell_type": "markdown",
   "metadata": {},
   "source": [
    "#### Transactions"
   ]
  },
  {
   "cell_type": "code",
   "execution_count": 37,
   "metadata": {},
   "outputs": [
    {
     "name": "stdout",
     "output_type": "stream",
     "text": [
      "Using graph 'Ethereum2'\n",
      "Successfully created loading jobs: [load_transactions3].\n"
     ]
    }
   ],
   "source": [
    "# Custom loading job that maps the values of edges.csv to EDGE attributes\n",
    "results = conn.gsql('''\n",
    "  USE GRAPH Ethereum\n",
    "  BEGIN\n",
    "  CREATE LOADING JOB load_transactions FOR GRAPH Ethereum {\n",
    "    DEFINE FILENAME MyDataSource;\n",
    "    LOAD MyDataSource TO EDGE sent_eth VALUES($1, $2, $3, $4, $5) USING SEPARATOR=\",\", HEADER=\"true\", EOL=\"\\n\";\n",
    "  }\n",
    "  END''')\n",
    "print(results)"
   ]
  },
  {
   "attachments": {},
   "cell_type": "markdown",
   "metadata": {},
   "source": [
    "### Load Data"
   ]
  },
  {
   "attachments": {},
   "cell_type": "markdown",
   "metadata": {},
   "source": [
    "Using the loading jobs we just created, we will upload wallet (node) and transaction (edge) data from our local system into the graph stored in TigerGraph."
   ]
  },
  {
   "cell_type": "code",
   "execution_count": 38,
   "metadata": {},
   "outputs": [
    {
     "name": "stdout",
     "output_type": "stream",
     "text": [
      "[\n",
      "  {\n",
      "    \"sourceFileName\": \"Online_POST\",\n",
      "    \"statistics\": {\n",
      "      \"validLine\": 86623,\n",
      "      \"rejectLine\": 0,\n",
      "      \"failedConditionLine\": 0,\n",
      "      \"notEnoughToken\": 0,\n",
      "      \"invalidJson\": 0,\n",
      "      \"oversizeToken\": 0,\n",
      "      \"vertex\": [\n",
      "        {\n",
      "          \"typeName\": \"Wallet\",\n",
      "          \"validObject\": 86622,\n",
      "          \"noIdFound\": 0,\n",
      "          \"invalidAttribute\": 0,\n",
      "          \"invalidVertexType\": 0,\n",
      "          \"invalidPrimaryId\": 1,\n",
      "          \"invalidSecondaryId\": 0,\n",
      "          \"incorrectFixedBinaryLength\": 0\n",
      "        }\n",
      "      ],\n",
      "      \"edge\": [],\n",
      "      \"deleteVertex\": [],\n",
      "      \"deleteEdge\": []\n",
      "    }\n",
      "  }\n",
      "]\n"
     ]
    }
   ],
   "source": [
    "os.chdir('../data/')\n",
    "\n",
    "# Load the nodes file with the 'load_wallets' job\n",
    "nodes_file = 'nodes_train_test_split.csv'\n",
    "results = conn.runLoadingJobWithFile(filePath=nodes_file, fileTag='MyDataSource', jobName='load_wallets')\n",
    "print(json.dumps(results, indent=2))"
   ]
  },
  {
   "cell_type": "code",
   "execution_count": 40,
   "metadata": {},
   "outputs": [
    {
     "name": "stdout",
     "output_type": "stream",
     "text": [
      "[\n",
      "  {\n",
      "    \"sourceFileName\": \"Online_POST\",\n",
      "    \"statistics\": {\n",
      "      \"validLine\": 106084,\n",
      "      \"rejectLine\": 0,\n",
      "      \"failedConditionLine\": 0,\n",
      "      \"notEnoughToken\": 0,\n",
      "      \"invalidJson\": 0,\n",
      "      \"oversizeToken\": 0,\n",
      "      \"vertex\": [],\n",
      "      \"edge\": [\n",
      "        {\n",
      "          \"typeName\": \"sent_eth\",\n",
      "          \"validObject\": 106083,\n",
      "          \"noIdFound\": 0,\n",
      "          \"invalidAttribute\": 0,\n",
      "          \"invalidVertexType\": 0,\n",
      "          \"invalidPrimaryId\": 1,\n",
      "          \"invalidSecondaryId\": 0,\n",
      "          \"incorrectFixedBinaryLength\": 0\n",
      "        }\n",
      "      ],\n",
      "      \"deleteVertex\": [],\n",
      "      \"deleteEdge\": []\n",
      "    }\n",
      "  }\n",
      "]\n"
     ]
    }
   ],
   "source": [
    "# Load the edges file with the 'load_transactions' job\n",
    "edges_file = 'edges_engineered.csv'\n",
    "results = conn.runLoadingJobWithFile(filePath=edges_file, fileTag='MyDataSource', jobName='load_transactions')\n",
    "print(json.dumps(results, indent=2))"
   ]
  },
  {
   "attachments": {},
   "cell_type": "markdown",
   "metadata": {},
   "source": [
    "### Exploring the Graph\n",
    "We will now conduct some basic EDA on the Ethereum transaction network. We will also add relevant node features using [GSQL](https://github.com/tigergraph/gsql-graph-algorithms): TigerGraph's graph query langauge and in-database graph data science algorithm library."
   ]
  },
  {
   "cell_type": "code",
   "execution_count": 42,
   "metadata": {},
   "outputs": [
    {
     "name": "stdout",
     "output_type": "stream",
     "text": [
      "Vertex Counts\n",
      "There are 86622 Wallet vertices in the graph\n",
      "--------------\n",
      "Edge Counts\n",
      "There are 106083 sent_eth edges in the graph\n"
     ]
    }
   ],
   "source": [
    "# Get Node/Edge Counts\n",
    "print(\"Vertex Counts\")\n",
    "for vertex in conn.getVertexTypes():\n",
    "  print(f\"There are {conn.getVertexCount(vertex)} {vertex} vertices in the graph\")\n",
    "\n",
    "print(\"--------------\")\n",
    "print(\"Edge Counts\")\n",
    "for edge in conn.getEdgeTypes():\n",
    "  print(f\"There are {conn.getEdgeCount(edge)} {edge} edges in the graph\")"
   ]
  },
  {
   "cell_type": "code",
   "execution_count": 66,
   "metadata": {},
   "outputs": [
    {
     "name": "stdout",
     "output_type": "stream",
     "text": [
      "Installing and optimizing the queries, it might take a minute...\n",
      "Queries installed successfully\n",
      "Default parameters are: None\n"
     ]
    },
    {
     "data": {
      "text/plain": [
       "[{'\"Success !\"': 'Success !'}]"
      ]
     },
     "execution_count": 66,
     "metadata": {},
     "output_type": "execute_result"
    }
   ],
   "source": [
    "# Install and run GSQL query for indegree/outdegree\n",
    "os.chdir('../gsql/')\n",
    "f = conn.gds.featurizer()\n",
    "f.installAlgorithm(\"get_degrees\", query_path=\"get_degrees.gsql\")\n",
    "f.runAlgorithm(\"get_degrees\", custom_query=True)"
   ]
  },
  {
   "cell_type": "code",
   "execution_count": 67,
   "metadata": {},
   "outputs": [
    {
     "name": "stdout",
     "output_type": "stream",
     "text": [
      "Default parameters are: None\n"
     ]
    },
    {
     "data": {
      "text/plain": [
       "[{'\"Success!\"': 'Success!'}]"
      ]
     },
     "execution_count": 67,
     "metadata": {},
     "output_type": "execute_result"
    }
   ],
   "source": [
    "# Install and run GSQL query for total/minimum ETH sent/received\n",
    "f = conn.gds.featurizer()\n",
    "f.installAlgorithm(\"summarize_amounts\", query_path=\"summarize_amounts.gsql\")\n",
    "f.runAlgorithm(\"summarize_amounts\", custom_query=True)"
   ]
  },
  {
   "cell_type": "code",
   "execution_count": 69,
   "metadata": {},
   "outputs": [
    {
     "data": {
      "text/plain": [
       "[{'Vertex_ID': '30246', 'score': 158.67383},\n",
       " {'Vertex_ID': '29111', 'score': 84.32715},\n",
       " {'Vertex_ID': '759', 'score': 72.71993},\n",
       " {'Vertex_ID': '26668', 'score': 70.40115},\n",
       " {'Vertex_ID': '14687', 'score': 65.86597}]"
      ]
     },
     "execution_count": 69,
     "metadata": {},
     "output_type": "execute_result"
    }
   ],
   "source": [
    "# Install and run GSQL query for pagerank\n",
    "feat = conn.gds.featurizer()\n",
    "feat.installAlgorithm(\"tg_pagerank\")\n",
    "tg_pagerank_params = {\n",
    "  \"v_type\": \"Wallet\",\n",
    "  \"e_type\": \"sent_eth\",\n",
    "  \"result_attribute\": \"pagerank\",\n",
    "  \"top_k\":5  \n",
    "}\n",
    "results = feat.runAlgorithm(\"tg_pagerank\",tg_pagerank_params)[0]['@@top_scores_heap']\n",
    "results"
   ]
  }
 ],
 "metadata": {
  "kernelspec": {
   "display_name": "base",
   "language": "python",
   "name": "python3"
  },
  "language_info": {
   "name": "python",
   "version": "3.7.6"
  },
  "orig_nbformat": 4,
  "vscode": {
   "interpreter": {
    "hash": "a5776f5fd9a49d1738b77bb79c5ee40cd664c402395f703d4208fe9f523e76f4"
   }
  }
 },
 "nbformat": 4,
 "nbformat_minor": 2
}
