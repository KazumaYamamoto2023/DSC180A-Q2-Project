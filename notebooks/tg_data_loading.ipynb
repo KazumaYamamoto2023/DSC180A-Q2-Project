{
 "cells": [
  {
   "attachments": {},
   "cell_type": "markdown",
   "metadata": {},
   "source": [
    "# Connecting and Uploading Data to TigerGraph\n",
    "This notebook will demonstrate connecting to an existing TigerGraph database instance, publishing a global graph schema, creating a new graph, and uploading data to the graph. To get started, have an active database instance launched and a graph published in GraphStudio named 'MyGraph'."
   ]
  },
  {
   "cell_type": "code",
   "execution_count": 1,
   "metadata": {
    "vscode": {
     "languageId": "python"
    }
   },
   "outputs": [
    {
     "data": {
      "text/plain": [
       "('ialravn8hrorjlah61plt14mach58tnj', 1677228480, '2023-02-24 08:48:00')"
      ]
     },
     "execution_count": 1,
     "metadata": {},
     "output_type": "execute_result"
    }
   ],
   "source": [
    "# Imports\n",
    "import pyTigerGraph as tg\n",
    "import json\n",
    "import os\n",
    "\n",
    "# import TigerGraph instance config\n",
    "os.chdir('../config/')\n",
    "with open('tigergraph.json', 'r') as f:\n",
    "    config = json.load(f)\n",
    "\n",
    "# Connection parameters\n",
    "hostName = config['host']\n",
    "secret = config['secret']\n",
    "\n",
    "conn = tg.TigerGraphConnection(host=hostName, gsqlSecret=secret, graphname=\"MyGraph\")\n",
    "conn.getToken(secret)"
   ]
  },
  {
   "attachments": {},
   "cell_type": "markdown",
   "metadata": {},
   "source": [
    "### Define and Publish Graph Schema\n",
    "In this section, we will publish a global graph schema to TigerGraph, from which we will construct our Ethereum transaction graph. The global schema is as follows:\n",
    "* Nodes = ETH Wallets: ID, label <br />\n",
    "* Directed Edges = Transactions: From_ID, To_ID, ETH_amount, timestamp"
   ]
  },
  {
   "cell_type": "code",
   "execution_count": 2,
   "metadata": {
    "vscode": {
     "languageId": "python"
    }
   },
   "outputs": [
    {
     "name": "stdout",
     "output_type": "stream",
     "text": [
      "Successfully created vertex types: [Wallet].\n",
      "Successfully created edge types: [sent_eth].\n",
      "Successfully created reverse edge types: [reverse_sent_eth].\n",
      "Successfully created edge types: [received_eth].\n",
      "Successfully created reverse edge types: [reverse_received_eth].\n"
     ]
    }
   ],
   "source": [
    "# DEFINE / CREATE ALL EDGES AND VERTICES in Global View\n",
    "results = conn.gsql('''\n",
    "  USE GLOBAL\n",
    "  CREATE VERTEX Wallet (PRIMARY_ID id INT, label FLOAT) WITH primary_id_as_attribute=\"true\"\n",
    "  CREATE DIRECTED EDGE sent_eth (from Wallet, to Wallet, amount FLOAT, sent_date INT) WITH REVERSE_EDGE=\"reverse_sent_eth\"\n",
    "  CREATE DIRECTED EDGE received_eth (from Wallet, to Wallet, amount FLOAT, receive_date INT) WITH REVERSE_EDGE=\"reverse_received_eth\"\n",
    "''')\n",
    "print(results)"
   ]
  },
  {
   "attachments": {},
   "cell_type": "markdown",
   "metadata": {},
   "source": [
    "### Create the Ethereum Transaction Graph\n",
    "We will now create our transaction graph from our global schema, and we will establish a connection to the newly created graph."
   ]
  },
  {
   "cell_type": "code",
   "execution_count": 3,
   "metadata": {
    "vscode": {
     "languageId": "python"
    }
   },
   "outputs": [
    {
     "name": "stdout",
     "output_type": "stream",
     "text": [
      "The graph Ethereum is created.\n"
     ]
    }
   ],
   "source": [
    "# Create a new graph from the global schema\n",
    "results = conn.gsql('''\n",
    "  CREATE GRAPH Ethereum(Wallet, sent_eth, reverse_sent_eth, received_eth, reverse_received_eth)\n",
    "''')\n",
    "print(results)"
   ]
  },
  {
   "cell_type": "code",
   "execution_count": 4,
   "metadata": {
    "vscode": {
     "languageId": "python"
    }
   },
   "outputs": [
    {
     "data": {
      "text/plain": [
       "{'GraphName': 'Ethereum',\n",
       " 'VertexTypes': [{'Config': {'STATS': 'OUTDEGREE_BY_EDGETYPE',\n",
       "    'PRIMARY_ID_AS_ATTRIBUTE': True},\n",
       "   'Attributes': [{'AttributeType': {'Name': 'FLOAT'},\n",
       "     'AttributeName': 'label'}],\n",
       "   'PrimaryId': {'AttributeType': {'Name': 'INT'},\n",
       "    'PrimaryIdAsAttribute': True,\n",
       "    'AttributeName': 'id'},\n",
       "   'Name': 'Wallet'}],\n",
       " 'EdgeTypes': [{'IsDirected': True,\n",
       "   'ToVertexTypeName': 'Wallet',\n",
       "   'Config': {'REVERSE_EDGE': 'reverse_sent_eth'},\n",
       "   'Attributes': [{'AttributeType': {'Name': 'FLOAT'},\n",
       "     'AttributeName': 'amount'},\n",
       "    {'AttributeType': {'Name': 'INT'}, 'AttributeName': 'sent_date'}],\n",
       "   'FromVertexTypeName': 'Wallet',\n",
       "   'Name': 'sent_eth'},\n",
       "  {'IsDirected': True,\n",
       "   'ToVertexTypeName': 'Wallet',\n",
       "   'Config': {'REVERSE_EDGE': 'reverse_received_eth'},\n",
       "   'Attributes': [{'AttributeType': {'Name': 'FLOAT'},\n",
       "     'AttributeName': 'amount'},\n",
       "    {'AttributeType': {'Name': 'INT'}, 'AttributeName': 'receive_date'}],\n",
       "   'FromVertexTypeName': 'Wallet',\n",
       "   'Name': 'received_eth'}],\n",
       " 'UDTs': []}"
      ]
     },
     "execution_count": 4,
     "metadata": {},
     "output_type": "execute_result"
    }
   ],
   "source": [
    "# connect to the newly created graph\n",
    "conn.graphname=\"Ethereum\"\n",
    "secret = conn.createSecret()\n",
    "conn = tg.TigerGraphConnection(host=hostName, gsqlSecret=secret, graphname=\"Ethereum\")\n",
    "conn.getToken(secret)\n",
    "conn.getSchema()"
   ]
  },
  {
   "attachments": {},
   "cell_type": "markdown",
   "metadata": {},
   "source": [
    "### Create Loading Jobs\n",
    "We will now create custom loading jobs to map the values from our datasets to vertex and edge attributes for our transaction graph."
   ]
  },
  {
   "attachments": {},
   "cell_type": "markdown",
   "metadata": {},
   "source": [
    "#### Wallets"
   ]
  },
  {
   "cell_type": "code",
   "execution_count": 5,
   "metadata": {
    "vscode": {
     "languageId": "python"
    }
   },
   "outputs": [
    {
     "name": "stdout",
     "output_type": "stream",
     "text": [
      "Using graph 'Ethereum'\n",
      "Successfully created loading jobs: [load_wallets].\n"
     ]
    }
   ],
   "source": [
    "# Custom loading job that maps the values of nodes.csv to VERTEX attributes\n",
    "results = conn.gsql('''\n",
    "  USE GRAPH Ethereum\n",
    "  BEGIN\n",
    "  CREATE LOADING JOB load_wallets FOR GRAPH Ethereum {\n",
    "  DEFINE FILENAME MyDataSource;\n",
    "  LOAD MyDataSource TO VERTEX Wallet VALUES($0, $1) USING SEPARATOR=\",\", HEADER=\"true\", EOL=\"\\\\n\", QUOTE=\"double\";\n",
    "  }\n",
    "  END\n",
    "  ''')\n",
    "print(results)"
   ]
  },
  {
   "attachments": {},
   "cell_type": "markdown",
   "metadata": {},
   "source": [
    "#### Transactions"
   ]
  },
  {
   "cell_type": "code",
   "execution_count": 6,
   "metadata": {
    "vscode": {
     "languageId": "python"
    }
   },
   "outputs": [
    {
     "name": "stdout",
     "output_type": "stream",
     "text": [
      "Using graph 'Ethereum'\n",
      "Successfully created loading jobs: [load_transactions].\n"
     ]
    }
   ],
   "source": [
    "# Custom loading job that maps the values of edges.csv to EDGE attributes\n",
    "results = conn.gsql('''\n",
    "  USE GRAPH Ethereum\n",
    "  BEGIN\n",
    "  CREATE LOADING JOB load_transactions FOR GRAPH Ethereum {\n",
    "  DEFINE FILENAME MyDataSource;\n",
    "  LOAD MyDataSource TO EDGE sent_eth VALUES($1, $0, $2, $3) USING SEPARATOR=\",\", HEADER=\"true\", EOL=\"\\\\n\";\n",
    "  LOAD MyDataSource TO EDGE received_eth VALUES($0, $1, $2, $3) USING SEPARATOR=\",\", HEADER=\"true\", EOL=\"\\\\n\";\n",
    "  }\n",
    "  END''')\n",
    "print(results)"
   ]
  },
  {
   "attachments": {},
   "cell_type": "markdown",
   "metadata": {},
   "source": [
    "### Load Data"
   ]
  },
  {
   "attachments": {},
   "cell_type": "markdown",
   "metadata": {},
   "source": [
    "Using the loading jobs we just created, we will upload wallet (node) and transaction (edge) data from our local system into the graph stored in TigerGraph."
   ]
  },
  {
   "cell_type": "code",
   "execution_count": 8,
   "metadata": {
    "vscode": {
     "languageId": "python"
    }
   },
   "outputs": [
    {
     "name": "stdout",
     "output_type": "stream",
     "text": [
      "[\n",
      "  {\n",
      "    \"sourceFileName\": \"Online_POST\",\n",
      "    \"statistics\": {\n",
      "      \"validLine\": 86623,\n",
      "      \"rejectLine\": 0,\n",
      "      \"failedConditionLine\": 0,\n",
      "      \"notEnoughToken\": 0,\n",
      "      \"invalidJson\": 0,\n",
      "      \"oversizeToken\": 0,\n",
      "      \"vertex\": [\n",
      "        {\n",
      "          \"typeName\": \"Wallet\",\n",
      "          \"validObject\": 86622,\n",
      "          \"noIdFound\": 0,\n",
      "          \"invalidAttribute\": 0,\n",
      "          \"invalidVertexType\": 0,\n",
      "          \"invalidPrimaryId\": 1,\n",
      "          \"invalidSecondaryId\": 0,\n",
      "          \"incorrectFixedBinaryLength\": 0\n",
      "        }\n",
      "      ],\n",
      "      \"edge\": [],\n",
      "      \"deleteVertex\": [],\n",
      "      \"deleteEdge\": []\n",
      "    }\n",
      "  }\n",
      "]\n"
     ]
    }
   ],
   "source": [
    "os.chdir('../data/')\n",
    "\n",
    "# Load the nodes file with the 'load_wallets' job\n",
    "nodes_file = 'nodes.csv'\n",
    "results = conn.runLoadingJobWithFile(filePath=nodes_file, fileTag='MyDataSource', jobName='load_wallets')\n",
    "print(json.dumps(results, indent=2))"
   ]
  },
  {
   "cell_type": "code",
   "execution_count": 9,
   "metadata": {
    "vscode": {
     "languageId": "python"
    }
   },
   "outputs": [
    {
     "name": "stdout",
     "output_type": "stream",
     "text": [
      "[\n",
      "  {\n",
      "    \"sourceFileName\": \"Online_POST\",\n",
      "    \"statistics\": {\n",
      "      \"validLine\": 401177,\n",
      "      \"rejectLine\": 0,\n",
      "      \"failedConditionLine\": 0,\n",
      "      \"notEnoughToken\": 0,\n",
      "      \"invalidJson\": 0,\n",
      "      \"oversizeToken\": 0,\n",
      "      \"vertex\": [],\n",
      "      \"edge\": [\n",
      "        {\n",
      "          \"typeName\": \"sent_eth\",\n",
      "          \"validObject\": 401176,\n",
      "          \"noIdFound\": 0,\n",
      "          \"invalidAttribute\": 0,\n",
      "          \"invalidVertexType\": 0,\n",
      "          \"invalidPrimaryId\": 1,\n",
      "          \"invalidSecondaryId\": 0,\n",
      "          \"incorrectFixedBinaryLength\": 0\n",
      "        },\n",
      "        {\n",
      "          \"typeName\": \"received_eth\",\n",
      "          \"validObject\": 401176,\n",
      "          \"noIdFound\": 0,\n",
      "          \"invalidAttribute\": 0,\n",
      "          \"invalidVertexType\": 0,\n",
      "          \"invalidPrimaryId\": 1,\n",
      "          \"invalidSecondaryId\": 0,\n",
      "          \"incorrectFixedBinaryLength\": 0\n",
      "        }\n",
      "      ],\n",
      "      \"deleteVertex\": [],\n",
      "      \"deleteEdge\": []\n",
      "    }\n",
      "  }\n",
      "]\n"
     ]
    }
   ],
   "source": [
    "# Load the edges file with the 'load_transactions' job\n",
    "edges_file = 'edges.csv'\n",
    "results = conn.runLoadingJobWithFile(filePath=edges_file, fileTag='MyDataSource', jobName='load_transactions')\n",
    "print(json.dumps(results, indent=2))"
   ]
  },
  {
   "attachments": {},
   "cell_type": "markdown",
   "metadata": {},
   "source": [
    "### Exploring the Graph"
   ]
  },
  {
   "cell_type": "code",
   "execution_count": null,
   "metadata": {
    "vscode": {
     "languageId": "python"
    }
   },
   "outputs": [],
   "source": [
    "# TODO - ETHAN\n",
    "\n",
    "# write GSQL queries to get some summary statistics on edges/nodes\n",
    "# https://colab.research.google.com/drive/1JhYcnGVWT51KswcXZzyPzKqCoPP5htcC?usp=sharing#scrollTo=Zerob6pDgmq2 "
   ]
  },
  {
   "cell_type": "code",
   "execution_count": null,
   "metadata": {
    "vscode": {
     "languageId": "python"
    }
   },
   "outputs": [],
   "source": [
    "# Get Node/Edge Counts\n",
    "print(\"Vertex Counts\")\n",
    "for vertex in conn.getVertexTypes():\n",
    "  print(f\"There are {conn.getVertexCount(vertex)} {vertex} vertices in the graph\")\n",
    "\n",
    "print(\"--------------\")\n",
    "print(\"Edge Counts\")\n",
    "for edge in conn.getEdgeTypes():\n",
    "  print(f\"There are {conn.getEdgeCount(edge)} {edge} edges in the graph\")"
   ]
  },
  {
   "cell_type": "code",
   "execution_count": null,
   "metadata": {
    "vscode": {
     "languageId": "python"
    }
   },
   "outputs": [],
   "source": [
    "# GSQL query on amounts"
   ]
  },
  {
   "cell_type": "code",
   "execution_count": null,
   "metadata": {
    "vscode": {
     "languageId": "python"
    }
   },
   "outputs": [],
   "source": [
    "# GSQL query on indegree/outdegree"
   ]
  },
  {
   "cell_type": "code",
   "execution_count": null,
   "metadata": {
    "vscode": {
     "languageId": "python"
    }
   },
   "outputs": [],
   "source": []
  },
  {
   "attachments": {},
   "cell_type": "markdown",
   "metadata": {},
   "source": [
    "### Installing Queries\n",
    "Install user defined queries on TigerGraph instance. "
   ]
  },
  {
   "cell_type": "code",
   "execution_count": null,
   "metadata": {
    "vscode": {
     "languageId": "python"
    }
   },
   "outputs": [],
   "source": [
    "conn.gsql('''\n",
    "  USE GRAPH Ethereum\n",
    "  INSTALL QUERY hashtags_from_person\n",
    "''')"
   ]
  },
  {
   "attachments": {},
   "cell_type": "markdown",
   "metadata": {},
   "source": [
    "### Run Queries\n"
   ]
  },
  {
   "cell_type": "code",
   "execution_count": null,
   "metadata": {
    "vscode": {
     "languageId": "python"
    }
   },
   "outputs": [],
   "source": [
    "results = conn.runInstalledQuery(\"hashtags_from_person\", params={\"inPer\": \"50\"})\n",
    "print(json.dumps(results, indent=2))"
   ]
  }
 ],
 "metadata": {
  "kernelspec": {
   "display_name": "Python 3",
   "language": "python",
   "name": "python3"
  },
  "orig_nbformat": 4
 },
 "nbformat": 4,
 "nbformat_minor": 2
}
