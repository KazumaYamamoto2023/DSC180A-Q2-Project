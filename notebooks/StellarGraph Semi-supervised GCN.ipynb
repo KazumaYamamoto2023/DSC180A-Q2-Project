{
 "cells": [
  {
   "cell_type": "code",
   "execution_count": 1,
   "id": "111869ee",
   "metadata": {},
   "outputs": [],
   "source": [
    "#GraphSage"
   ]
  },
  {
   "cell_type": "code",
   "execution_count": 6,
   "id": "d6e75f62",
   "metadata": {},
   "outputs": [],
   "source": [
    "import stellargraph as sg\n",
    "from stellargraph.mapper import CorruptedGenerator, FullBatchNodeGenerator\n",
    "from stellargraph.layer import GCN, DeepGraphInfomax\n",
    "\n",
    "import pandas as pd\n",
    "from sklearn import model_selection, preprocessing\n",
    "from IPython.display import display, HTML\n",
    "import numpy as np\n",
    "\n",
    "import tensorflow as tf\n",
    "from tensorflow.keras import Model, layers, optimizers, callbacks"
   ]
  },
  {
   "cell_type": "code",
   "execution_count": 8,
   "id": "37f706ea",
   "metadata": {},
   "outputs": [],
   "source": [
    "nodes = pd.read_csv(\"nodes.csv\")\n",
    "edges = pd.read_csv(\"edges.csv\")"
   ]
  },
  {
   "cell_type": "code",
   "execution_count": 9,
   "id": "f2a8ceeb",
   "metadata": {},
   "outputs": [],
   "source": [
    "all_nodes = pd.DataFrame(np.unique(edges[\"from\"].tolist()+edges[\"to\"].tolist()+nodes[\"id\"].tolist()),columns=[\"id\"]).set_index(\"id\").join(nodes.set_index(\"id\"),how=\"outer\")#.set_index('id')"
   ]
  },
  {
   "cell_type": "code",
   "execution_count": 10,
   "id": "8a58028a",
   "metadata": {},
   "outputs": [],
   "source": [
    "labeled = nodes.set_index(\"id\")"
   ]
  },
  {
   "cell_type": "code",
   "execution_count": 12,
   "id": "c5f384a1",
   "metadata": {},
   "outputs": [],
   "source": [
    "filteredfrom = edges[edges[\"from\"].isin(labeled.index)]\n",
    "filteredto = filteredfrom[filteredfrom[\"to\"].isin(labeled.index)]"
   ]
  },
  {
   "cell_type": "code",
   "execution_count": 13,
   "id": "a3908350",
   "metadata": {},
   "outputs": [],
   "source": [
    "supervised = pd.DataFrame(np.unique(filteredto[\"from\"].tolist()+filteredto[\"to\"].tolist()+labeled.index.tolist()),columns=[\"id\"]).set_index(\"id\")"
   ]
  },
  {
   "cell_type": "code",
   "execution_count": 14,
   "id": "47da7dea",
   "metadata": {},
   "outputs": [],
   "source": [
    "unsuper = pd.DataFrame(np.unique(edges[\"from\"].tolist()+edges[\"to\"].tolist()+nodes[\"id\"].tolist()),columns=[\"id\"]).set_index(\"id\")"
   ]
  },
  {
   "cell_type": "code",
   "execution_count": 15,
   "id": "57b1fece",
   "metadata": {},
   "outputs": [],
   "source": [
    "agg_edges = edges.groupby([\"from\",\"to\"])[\"amount\"].sum().reset_index()"
   ]
  },
  {
   "cell_type": "code",
   "execution_count": 16,
   "id": "a8fa6d75",
   "metadata": {},
   "outputs": [],
   "source": [
    "agg_edges = agg_edges.rename(columns={\"from\":\"source\",\"to\":\"target\",\"amount\":\"weight\"})"
   ]
  },
  {
   "cell_type": "code",
   "execution_count": 17,
   "id": "d0fee2ca",
   "metadata": {
    "scrolled": true
   },
   "outputs": [],
   "source": [
    "G = sg.StellarDiGraph(nodes = unsuper,edges = agg_edges)"
   ]
  },
  {
   "cell_type": "code",
   "execution_count": 18,
   "id": "a0485065",
   "metadata": {},
   "outputs": [],
   "source": [
    "agg_filtered = filteredto.groupby([\"from\",\"to\"])[\"amount\"].sum().reset_index()"
   ]
  },
  {
   "cell_type": "code",
   "execution_count": 19,
   "id": "78f19680",
   "metadata": {},
   "outputs": [],
   "source": [
    "agg_filtered = agg_filtered.rename(columns={\"from\":\"source\",\"to\":\"target\",\"amount\":\"weight\"})"
   ]
  },
  {
   "cell_type": "code",
   "execution_count": 21,
   "id": "515f5969",
   "metadata": {},
   "outputs": [],
   "source": [
    "supervised = nodes.set_index('id')"
   ]
  },
  {
   "cell_type": "code",
   "execution_count": 46,
   "id": "fd3fa060",
   "metadata": {},
   "outputs": [],
   "source": [
    "G2 = sg.StellarDiGraph(nodes = supervised, edges = agg_filtered)"
   ]
  },
  {
   "cell_type": "code",
   "execution_count": 47,
   "id": "3b0188c2",
   "metadata": {
    "scrolled": true
   },
   "outputs": [
    {
     "name": "stdout",
     "output_type": "stream",
     "text": [
      "StellarDiGraph: Directed multigraph\n",
      " Nodes: 890, Edges: 85\n",
      "\n",
      " Node types:\n",
      "  default: [890]\n",
      "    Features: float32 vector, length 1\n",
      "    Edge types: default-default->default\n",
      "\n",
      " Edge types:\n",
      "    default-default->default: [85]\n",
      "        Weights: range=[0.00721538, 3940.82], mean=282.609, std=719.537\n",
      "        Features: none\n"
     ]
    }
   ],
   "source": [
    "print(G2.info())"
   ]
  },
  {
   "cell_type": "code",
   "execution_count": 49,
   "id": "a0a7538a",
   "metadata": {},
   "outputs": [],
   "source": [
    "generator = sg.mapper.PaddedGraphGenerator([G2])"
   ]
  },
  {
   "cell_type": "code",
   "execution_count": 50,
   "id": "4d564dfc",
   "metadata": {},
   "outputs": [
    {
     "name": "stdout",
     "output_type": "stream",
     "text": [
      "Using GCN (local pooling) filters...\n"
     ]
    }
   ],
   "source": [
    "fullbatch_generator = FullBatchNodeGenerator(G2)\n",
    "\n",
    "corrupted_generator = CorruptedGenerator(fullbatch_generator)\n",
    "gen = corrupted_generator.flow(G2.nodes())"
   ]
  },
  {
   "cell_type": "code",
   "execution_count": 51,
   "id": "8f5e90c2",
   "metadata": {},
   "outputs": [],
   "source": [
    "def make_gcn_model():\n",
    "    # function because we want to create a second one with the same parameters later\n",
    "    return GCN(\n",
    "        layer_sizes=[16, 16],\n",
    "        activations=[\"relu\", \"relu\"],\n",
    "        generator=fullbatch_generator,\n",
    "        dropout=0.4,\n",
    "    )\n",
    "\n",
    "\n",
    "pretrained_gcn_model = make_gcn_model()"
   ]
  },
  {
   "cell_type": "code",
   "execution_count": 52,
   "id": "871ec332",
   "metadata": {},
   "outputs": [
    {
     "name": "stderr",
     "output_type": "stream",
     "text": [
      "WARNING:absl:`lr` is deprecated, please use `learning_rate` instead, or use the legacy optimizer, e.g.,tf.keras.optimizers.legacy.Adam.\n"
     ]
    }
   ],
   "source": [
    "infomax = DeepGraphInfomax(pretrained_gcn_model, corrupted_generator)\n",
    "x_in, x_out = infomax.in_out_tensors()\n",
    "\n",
    "dgi_model = Model(inputs=x_in, outputs=x_out)\n",
    "dgi_model.compile(\n",
    "    loss=tf.nn.sigmoid_cross_entropy_with_logits, optimizer=optimizers.Adam(lr=1e-3)\n",
    ")"
   ]
  },
  {
   "cell_type": "code",
   "execution_count": 53,
   "id": "af22dac3",
   "metadata": {},
   "outputs": [],
   "source": [
    "epochs = 500\n"
   ]
  },
  {
   "cell_type": "code",
   "execution_count": 54,
   "id": "dfb83e4d",
   "metadata": {},
   "outputs": [],
   "source": [
    "dgi_es = callbacks.EarlyStopping(monitor=\"loss\", patience=50, restore_best_weights=True)\n",
    "dgi_history = dgi_model.fit(gen, epochs=epochs, verbose=0, callbacks=[dgi_es])"
   ]
  },
  {
   "cell_type": "code",
   "execution_count": 55,
   "id": "a19f5842",
   "metadata": {},
   "outputs": [
    {
     "data": {
      "image/png": "[encoded data removed]",
      "text/plain": [
       "<Figure size 700x400 with 1 Axes>"
      ]
     },
     "metadata": {},
     "output_type": "display_data"
    }
   ],
   "source": [
    "sg.utils.plot_history(dgi_history)\n"
   ]
  },
  {
   "cell_type": "code",
   "execution_count": 56,
   "id": "7db2ca27",
   "metadata": {},
   "outputs": [],
   "source": [
    "node_classes = nodes.set_index(\"id\")[\"label\"]"
   ]
  },
  {
   "cell_type": "code",
   "execution_count": 68,
   "id": "5de1e1e6",
   "metadata": {},
   "outputs": [],
   "source": [
    "train_classes, test_classes = model_selection.train_test_split(\n",
    "    node_classes, stratify=node_classes, random_state=42\n",
    ")\n",
    "val_classes, test_classes = model_selection.train_test_split(\n",
    "    test_classes, stratify=test_classes\n",
    ")"
   ]
  },
  {
   "cell_type": "code",
   "execution_count": 69,
   "id": "6aa3864f",
   "metadata": {},
   "outputs": [],
   "source": [
    "target_encoding = preprocessing.LabelBinarizer()\n",
    "\n",
    "train_targets = target_encoding.fit_transform(train_classes)\n",
    "val_targets = target_encoding.transform(val_classes)\n",
    "test_targets = target_encoding.transform(test_classes)"
   ]
  },
  {
   "cell_type": "code",
   "execution_count": 59,
   "id": "f0d84d0d",
   "metadata": {},
   "outputs": [],
   "source": [
    "train_gen = fullbatch_generator.flow(train_classes.index, train_targets)\n",
    "test_gen = fullbatch_generator.flow(test_classes.index, test_targets)\n",
    "val_gen = fullbatch_generator.flow(val_classes.index, val_targets)"
   ]
  },
  {
   "cell_type": "code",
   "execution_count": 60,
   "id": "20d71a89",
   "metadata": {},
   "outputs": [],
   "source": [
    "pretrained_x_in, pretrained_x_out = pretrained_gcn_model.in_out_tensors()\n",
    "\n",
    "pretrained_predictions = tf.keras.layers.Dense(\n",
    "    units=train_targets.shape[1], activation=\"softmax\"\n",
    ")(pretrained_x_out)"
   ]
  },
  {
   "cell_type": "code",
   "execution_count": 61,
   "id": "ea8fa4e1",
   "metadata": {},
   "outputs": [
    {
     "name": "stderr",
     "output_type": "stream",
     "text": [
      "WARNING:absl:`lr` is deprecated, please use `learning_rate` instead, or use the legacy optimizer, e.g.,tf.keras.optimizers.legacy.Adam.\n"
     ]
    }
   ],
   "source": [
    "pretrained_model = Model(inputs=pretrained_x_in, outputs=pretrained_predictions)\n",
    "pretrained_model.compile(\n",
    "    optimizer=optimizers.Adam(lr=0.01), loss=\"categorical_crossentropy\", metrics=[\"acc\"],\n",
    ")"
   ]
  },
  {
   "cell_type": "code",
   "execution_count": 62,
   "id": "b1e1d457",
   "metadata": {},
   "outputs": [],
   "source": [
    "prediction_es = callbacks.EarlyStopping(\n",
    "    monitor=\"val_acc\", patience=50, restore_best_weights=True\n",
    ")"
   ]
  },
  {
   "cell_type": "code",
   "execution_count": 63,
   "id": "9c3fe1e1",
   "metadata": {},
   "outputs": [],
   "source": [
    "pretrained_history = pretrained_model.fit(\n",
    "    train_gen,\n",
    "    epochs=epochs,\n",
    "    verbose=0,\n",
    "    validation_data=val_gen,\n",
    "    callbacks=[prediction_es],\n",
    ")"
   ]
  },
  {
   "cell_type": "code",
   "execution_count": 64,
   "id": "d4431a6d",
   "metadata": {},
   "outputs": [
    {
     "data": {
      "image/png": "[encoded data removed]",
      "text/plain": [
       "<Figure size 700x800 with 2 Axes>"
      ]
     },
     "metadata": {},
     "output_type": "display_data"
    }
   ],
   "source": [
    "sg.utils.plot_history(pretrained_history)\n"
   ]
  },
  {
   "cell_type": "code",
   "execution_count": 65,
   "id": "f1e30538",
   "metadata": {},
   "outputs": [
    {
     "name": "stdout",
     "output_type": "stream",
     "text": [
      "1/1 [==============================] - 0s 25ms/step - loss: 0.0000e+00 - acc: 0.5000\n",
      "{'loss': 0.0, 'acc': 0.5}\n"
     ]
    }
   ],
   "source": [
    "pretrained_test_metrics = dict(\n",
    "    zip(pretrained_model.metrics_names, pretrained_model.evaluate(test_gen))\n",
    ")\n",
    "print(pretrained_test_metrics)"
   ]
  },
  {
   "cell_type": "code",
   "execution_count": 66,
   "id": "278a416d",
   "metadata": {},
   "outputs": [
    {
     "data": {
      "text/html": [
       "<div>\n",
       "<style scoped>\n",
       "    .dataframe tbody tr th:only-of-type {\n",
       "        vertical-align: middle;\n",
       "    }\n",
       "\n",
       "    .dataframe tbody tr th {\n",
       "        vertical-align: top;\n",
       "    }\n",
       "\n",
       "    .dataframe thead th {\n",
       "        text-align: right;\n",
       "    }\n",
       "</style>\n",
       "<table border=\"1\" class=\"dataframe\">\n",
       "  <thead>\n",
       "    <tr style=\"text-align: right;\">\n",
       "      <th></th>\n",
       "      <th>loss</th>\n",
       "      <th>acc</th>\n",
       "    </tr>\n",
       "  </thead>\n",
       "  <tbody>\n",
       "    <tr>\n",
       "      <th>with DGI pre-training</th>\n",
       "      <td>0.0</td>\n",
       "      <td>0.5</td>\n",
       "    </tr>\n",
       "  </tbody>\n",
       "</table>\n",
       "</div>"
      ],
      "text/plain": [
       "                       loss  acc\n",
       "with DGI pre-training   0.0  0.5"
      ]
     },
     "execution_count": 66,
     "metadata": {},
     "output_type": "execute_result"
    }
   ],
   "source": [
    "pd.DataFrame(\n",
    "    [pretrained_test_metrics],\n",
    "    index=[\"with DGI pre-training\"],\n",
    ").round(3)"
   ]
  },
  {
   "cell_type": "code",
   "execution_count": null,
   "id": "25ddc121",
   "metadata": {},
   "outputs": [],
   "source": []
  },
  {
   "cell_type": "code",
   "execution_count": null,
   "id": "913dcdbb",
   "metadata": {},
   "outputs": [],
   "source": []
  }
 ],
 "metadata": {
  "kernelspec": {
   "display_name": "Python 3 (ipykernel)",
   "language": "python",
   "name": "python3"
  },
  "language_info": {
   "codemirror_mode": {
    "name": "ipython",
    "version": 3
   },
   "file_extension": ".py",
   "mimetype": "text/x-python",
   "name": "python",
   "nbconvert_exporter": "python",
   "pygments_lexer": "ipython3",
   "version": "3.8.13"
  }
 },
 "nbformat": 4,
 "nbformat_minor": 5
}
