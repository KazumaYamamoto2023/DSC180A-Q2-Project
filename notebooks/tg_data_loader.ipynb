{
 "cells": [
  {
   "cell_type": "code",
   "execution_count": 23,
   "metadata": {},
   "outputs": [
    {
     "data": {
      "text/plain": [
       "('204e9hfhv3eg2dps5kr9p10uaet4um15', 1676766082, '2023-02-19 00:21:22')"
      ]
     },
     "execution_count": 23,
     "metadata": {},
     "output_type": "execute_result"
    }
   ],
   "source": [
    "# Imports\n",
    "import pyTigerGraph as tg\n",
    "import json\n",
    "import pandas as pd\n",
    "import os\n",
    "\n",
    "# Connection parameters\n",
    "hostName = \"https://c2fa4efab8ca4cb28b9d08be859caa2c.i.tgcloud.io/\"\n",
    "secret = \"320tcb2tn2d1u8oo7iupkcl11oi0k1dj\"\n",
    "\n",
    "conn = tg.TigerGraphConnection(host=hostName, gsqlSecret=secret, graphname=\"MyGraph\")\n",
    "conn.getToken(secret)"
   ]
  },
  {
   "attachments": {},
   "cell_type": "markdown",
   "metadata": {},
   "source": [
    "### Define and Publish Graph Schema"
   ]
  },
  {
   "attachments": {},
   "cell_type": "markdown",
   "metadata": {},
   "source": [
    "Nodes = ETH Users/wallets: ID, label <br />\n",
    "Directed Edges = Transaction flow: From_ID, To_ID, ETH_amount, timestamp"
   ]
  },
  {
   "cell_type": "code",
   "execution_count": 24,
   "metadata": {},
   "outputs": [
    {
     "name": "stdout",
     "output_type": "stream",
     "text": [
      "Successfully created vertex types: [Wallet].\n",
      "Successfully created edge types: [sent_eth].\n",
      "Successfully created reverse edge types: [reverse_sent_eth].\n",
      "Successfully created edge types: [received_eth].\n",
      "Successfully created reverse edge types: [reverse_received_eth].\n"
     ]
    }
   ],
   "source": [
    "# DEFINE / CREATE ALL EDGES AND VERTICES \n",
    "results = conn.gsql('''\n",
    "  USE GLOBAL\n",
    "  CREATE VERTEX Wallet (PRIMARY_ID id STRING, label STRING) WITH primary_id_as_attribute=\"true\"\n",
    "  CREATE DIRECTED EDGE sent_eth (from Wallet, to Wallet, amount INT, sent_date DATETIME) WITH REVERSE_EDGE=\"reverse_sent_eth\"\n",
    "  CREATE DIRECTED EDGE received_eth (from Wallet, to Wallet, amount INT, receive_date DATETIME) WITH REVERSE_EDGE=\"reverse_received_eth\"\n",
    "''')\n",
    "print(results)"
   ]
  },
  {
   "attachments": {},
   "cell_type": "markdown",
   "metadata": {},
   "source": [
    "### Create the Ethereum Transaction Graph"
   ]
  },
  {
   "cell_type": "code",
   "execution_count": 26,
   "metadata": {},
   "outputs": [
    {
     "name": "stdout",
     "output_type": "stream",
     "text": [
      "The graph MyGraph2 is created.\n"
     ]
    }
   ],
   "source": [
    "results = conn.gsql('''\n",
    "  CREATE GRAPH MyGraph2(Wallet, sent_eth, reverse_sent_eth, received_eth, reverse_received_eth)\n",
    "''')\n",
    "print(results)"
   ]
  },
  {
   "cell_type": "code",
   "execution_count": 28,
   "metadata": {},
   "outputs": [],
   "source": [
    "conn.graphname=\"ETH_Transaction_Graph\"\n",
    "#secret = conn.createSecret()\n",
    "# authToken = conn.getToken(secret)\n",
    "# authToken = authToken[0]\n",
    "# print(authToken)\n",
    "# authToken = 'rc7reopbis1667ksgcppq5v5fb99p6s1'\n",
    "conn = tg.TigerGraphConnection(host=hostName, gsqlSecret=secret, graphname=\"ETH_Transaction_Graph\")\n",
    "\n",
    "def pprint(string):\n",
    "  print(json.dumps(string, indent=2))"
   ]
  },
  {
   "attachments": {},
   "cell_type": "markdown",
   "metadata": {},
   "source": [
    "### Create Loading Jobs"
   ]
  },
  {
   "attachments": {},
   "cell_type": "markdown",
   "metadata": {},
   "source": [
    "#### Wallets"
   ]
  },
  {
   "cell_type": "code",
   "execution_count": 31,
   "metadata": {},
   "outputs": [
    {
     "name": "stdout",
     "output_type": "stream",
     "text": [
      "Using graph 'MyGraph2'\n",
      "Successfully created loading jobs: [load_wallets].\n"
     ]
    }
   ],
   "source": [
    "results = conn.gsql('''\n",
    "  USE GRAPH MyGraph2\n",
    "  BEGIN\n",
    "  CREATE LOADING JOB load_wallets FOR GRAPH MyGraph2 {\n",
    "  DEFINE FILENAME MyDataSource;\n",
    "  LOAD MyDataSource TO VERTEX Wallet VALUES($0, $1) USING SEPARATOR=\",\", HEADER=\"true\", EOL=\"\\\\n\", QUOTE=\"double\";\n",
    "  }\n",
    "  END\n",
    "  ''')\n",
    "print(results)"
   ]
  },
  {
   "attachments": {},
   "cell_type": "markdown",
   "metadata": {},
   "source": [
    "#### Transactions"
   ]
  },
  {
   "cell_type": "code",
   "execution_count": 32,
   "metadata": {},
   "outputs": [
    {
     "name": "stdout",
     "output_type": "stream",
     "text": [
      "Using graph 'MyGraph2'\n",
      "Successfully created loading jobs: [load_transactions].\n"
     ]
    }
   ],
   "source": [
    "results = conn.gsql('''\n",
    "  USE GRAPH MyGraph2\n",
    "  BEGIN\n",
    "  CREATE LOADING JOB load_transactions FOR GRAPH MyGraph2 {\n",
    "  DEFINE FILENAME MyDataSource;\n",
    "  LOAD MyDataSource TO EDGE sent_eth VALUES($1, $0, $2, $3) USING SEPARATOR=\",\", HEADER=\"false\", EOL=\"\\\\n\", QUOTE=\"double\";\n",
    "  LOAD MyDataSource TO EDGE received_eth VALUES($0, $1, $2, $3) USING SEPARATOR=\",\", HEADER=\"false\", EOL=\"\\\\n\", QUOTE=\"double\";\n",
    "  }\n",
    "  END''')\n",
    "print(results)"
   ]
  },
  {
   "attachments": {},
   "cell_type": "markdown",
   "metadata": {},
   "source": [
    "### Load Data"
   ]
  },
  {
   "cell_type": "code",
   "execution_count": 34,
   "metadata": {},
   "outputs": [],
   "source": [
    "os.chdir('/Users/stephengelinas/DSC180A-Q2-Project/data')\n",
    "# nodes = pd.read_csv(r'nodes.txt', header=None, sep=' ', names=['id','label'])\n",
    "# edges = pd.read_csv(r'edges.txt', header=None, names=['from', 'to', 'amount', 'timestamp'])\n",
    "# nodes.to_csv('nodes.csv',index=False)\n",
    "# edges.to_csv('edges.csv',index=False)"
   ]
  },
  {
   "cell_type": "code",
   "execution_count": 35,
   "metadata": {},
   "outputs": [
    {
     "ename": "TigerGraphException",
     "evalue": "(\"The graph name 'ETH_Transaction_Graph' parsed from the url = '/ddl/ETH_Transaction_Graph' is not found, please provide a valid graph name.\", 'REST-1004')",
     "output_type": "error",
     "traceback": [
      "\u001b[0;31m---------------------------------------------------------------------------\u001b[0m",
      "\u001b[0;31mTigerGraphException\u001b[0m                       Traceback (most recent call last)",
      "\u001b[0;32m<ipython-input-35-210570d7c7de>\u001b[0m in \u001b[0;36m<module>\u001b[0;34m\u001b[0m\n\u001b[1;32m      1\u001b[0m \u001b[0;31m# Load the nodes file with the 'load_wallets' job\u001b[0m\u001b[0;34m\u001b[0m\u001b[0;34m\u001b[0m\u001b[0;34m\u001b[0m\u001b[0m\n\u001b[1;32m      2\u001b[0m \u001b[0mposts_file\u001b[0m \u001b[0;34m=\u001b[0m \u001b[0;34m'nodes.csv'\u001b[0m\u001b[0;34m\u001b[0m\u001b[0;34m\u001b[0m\u001b[0m\n\u001b[0;32m----> 3\u001b[0;31m \u001b[0mresults\u001b[0m \u001b[0;34m=\u001b[0m \u001b[0mconn\u001b[0m\u001b[0;34m.\u001b[0m\u001b[0muploadFile\u001b[0m\u001b[0;34m(\u001b[0m\u001b[0mposts_file\u001b[0m\u001b[0;34m,\u001b[0m \u001b[0mfileTag\u001b[0m\u001b[0;34m=\u001b[0m\u001b[0;34m'MyDataSource'\u001b[0m\u001b[0;34m,\u001b[0m \u001b[0mjobName\u001b[0m\u001b[0;34m=\u001b[0m\u001b[0;34m'load_wallets'\u001b[0m\u001b[0;34m)\u001b[0m\u001b[0;34m\u001b[0m\u001b[0;34m\u001b[0m\u001b[0m\n\u001b[0m\u001b[1;32m      4\u001b[0m \u001b[0mprint\u001b[0m\u001b[0;34m(\u001b[0m\u001b[0mjson\u001b[0m\u001b[0;34m.\u001b[0m\u001b[0mdumps\u001b[0m\u001b[0;34m(\u001b[0m\u001b[0mresults\u001b[0m\u001b[0;34m,\u001b[0m \u001b[0mindent\u001b[0m\u001b[0;34m=\u001b[0m\u001b[0;36m2\u001b[0m\u001b[0;34m)\u001b[0m\u001b[0;34m)\u001b[0m\u001b[0;34m\u001b[0m\u001b[0;34m\u001b[0m\u001b[0m\n",
      "\u001b[0;32m~/opt/anaconda3/lib/python3.7/site-packages/pyTigerGraph/pyTigerGraphLoading.py\u001b[0m in \u001b[0;36muploadFile\u001b[0;34m(self, filePath, fileTag, jobName, sep, eol, timeout, sizeLimit)\u001b[0m\n\u001b[1;32m     86\u001b[0m             DeprecationWarning)\n\u001b[1;32m     87\u001b[0m \u001b[0;34m\u001b[0m\u001b[0m\n\u001b[0;32m---> 88\u001b[0;31m         \u001b[0;32mreturn\u001b[0m \u001b[0mself\u001b[0m\u001b[0;34m.\u001b[0m\u001b[0mrunLoadingJobWithFile\u001b[0m\u001b[0;34m(\u001b[0m\u001b[0mfilePath\u001b[0m\u001b[0;34m,\u001b[0m \u001b[0mfileTag\u001b[0m\u001b[0;34m,\u001b[0m \u001b[0mjobName\u001b[0m\u001b[0;34m,\u001b[0m \u001b[0msep\u001b[0m\u001b[0;34m,\u001b[0m \u001b[0meol\u001b[0m\u001b[0;34m,\u001b[0m \u001b[0mtimeout\u001b[0m\u001b[0;34m,\u001b[0m \u001b[0msizeLimit\u001b[0m\u001b[0;34m)\u001b[0m\u001b[0;34m\u001b[0m\u001b[0;34m\u001b[0m\u001b[0m\n\u001b[0m\u001b[1;32m     89\u001b[0m \u001b[0;34m\u001b[0m\u001b[0m\n\u001b[1;32m     90\u001b[0m     \u001b[0;31m# TODO POST /restpploader/{graph_name}\u001b[0m\u001b[0;34m\u001b[0m\u001b[0;34m\u001b[0m\u001b[0;34m\u001b[0m\u001b[0m\n",
      "\u001b[0;32m~/opt/anaconda3/lib/python3.7/site-packages/pyTigerGraph/pyTigerGraphLoading.py\u001b[0m in \u001b[0;36mrunLoadingJobWithFile\u001b[0;34m(self, filePath, fileTag, jobName, sep, eol, timeout, sizeLimit)\u001b[0m\n\u001b[1;32m     68\u001b[0m \u001b[0;34m\u001b[0m\u001b[0m\n\u001b[1;32m     69\u001b[0m         res = self._post(self.restppUrl + \"/ddl/\" + self.graphname, params=params, data=data,\n\u001b[0;32m---> 70\u001b[0;31m             headers={\"RESPONSE-LIMIT\": str(sizeLimit), \"GSQL-TIMEOUT\": str(timeout)})\n\u001b[0m\u001b[1;32m     71\u001b[0m \u001b[0;34m\u001b[0m\u001b[0m\n\u001b[1;32m     72\u001b[0m         \u001b[0;32mif\u001b[0m \u001b[0mlogger\u001b[0m\u001b[0;34m.\u001b[0m\u001b[0mlevel\u001b[0m \u001b[0;34m==\u001b[0m \u001b[0mlogging\u001b[0m\u001b[0;34m.\u001b[0m\u001b[0mDEBUG\u001b[0m\u001b[0;34m:\u001b[0m\u001b[0;34m\u001b[0m\u001b[0;34m\u001b[0m\u001b[0m\n",
      "\u001b[0;32m~/opt/anaconda3/lib/python3.7/site-packages/pyTigerGraph/pyTigerGraphBase.py\u001b[0m in \u001b[0;36m_post\u001b[0;34m(self, url, authMode, headers, data, resKey, skipCheck, params, jsonData)\u001b[0m\n\u001b[1;32m    353\u001b[0m             \u001b[0mlogger\u001b[0m\u001b[0;34m.\u001b[0m\u001b[0mdebug\u001b[0m\u001b[0;34m(\u001b[0m\u001b[0;34m\"params: \"\u001b[0m \u001b[0;34m+\u001b[0m \u001b[0mself\u001b[0m\u001b[0;34m.\u001b[0m\u001b[0m_locals\u001b[0m\u001b[0;34m(\u001b[0m\u001b[0mlocals\u001b[0m\u001b[0;34m(\u001b[0m\u001b[0;34m)\u001b[0m\u001b[0;34m)\u001b[0m\u001b[0;34m)\u001b[0m\u001b[0;34m\u001b[0m\u001b[0;34m\u001b[0m\u001b[0m\n\u001b[1;32m    354\u001b[0m \u001b[0;34m\u001b[0m\u001b[0m\n\u001b[0;32m--> 355\u001b[0;31m         \u001b[0mres\u001b[0m \u001b[0;34m=\u001b[0m \u001b[0mself\u001b[0m\u001b[0;34m.\u001b[0m\u001b[0m_req\u001b[0m\u001b[0;34m(\u001b[0m\u001b[0;34m\"POST\"\u001b[0m\u001b[0;34m,\u001b[0m \u001b[0murl\u001b[0m\u001b[0;34m,\u001b[0m \u001b[0mauthMode\u001b[0m\u001b[0;34m,\u001b[0m \u001b[0mheaders\u001b[0m\u001b[0;34m,\u001b[0m \u001b[0mdata\u001b[0m\u001b[0;34m,\u001b[0m \u001b[0mresKey\u001b[0m\u001b[0;34m,\u001b[0m \u001b[0mskipCheck\u001b[0m\u001b[0;34m,\u001b[0m \u001b[0mparams\u001b[0m\u001b[0;34m,\u001b[0m \u001b[0mjsonData\u001b[0m\u001b[0;34m=\u001b[0m\u001b[0mjsonData\u001b[0m\u001b[0;34m)\u001b[0m\u001b[0;34m\u001b[0m\u001b[0;34m\u001b[0m\u001b[0m\n\u001b[0m\u001b[1;32m    356\u001b[0m \u001b[0;34m\u001b[0m\u001b[0m\n\u001b[1;32m    357\u001b[0m         \u001b[0;32mif\u001b[0m \u001b[0mlogger\u001b[0m\u001b[0;34m.\u001b[0m\u001b[0mlevel\u001b[0m \u001b[0;34m==\u001b[0m \u001b[0mlogging\u001b[0m\u001b[0;34m.\u001b[0m\u001b[0mDEBUG\u001b[0m\u001b[0;34m:\u001b[0m\u001b[0;34m\u001b[0m\u001b[0;34m\u001b[0m\u001b[0m\n",
      "\u001b[0;32m~/opt/anaconda3/lib/python3.7/site-packages/pyTigerGraph/pyTigerGraphBase.py\u001b[0m in \u001b[0;36m_req\u001b[0;34m(self, method, url, authMode, headers, data, resKey, skipCheck, params, strictJson, jsonData)\u001b[0m\n\u001b[1;32m    276\u001b[0m         \u001b[0mres\u001b[0m \u001b[0;34m=\u001b[0m \u001b[0mjson\u001b[0m\u001b[0;34m.\u001b[0m\u001b[0mloads\u001b[0m\u001b[0;34m(\u001b[0m\u001b[0mres\u001b[0m\u001b[0;34m.\u001b[0m\u001b[0mtext\u001b[0m\u001b[0;34m,\u001b[0m \u001b[0mstrict\u001b[0m\u001b[0;34m=\u001b[0m\u001b[0mstrictJson\u001b[0m\u001b[0;34m)\u001b[0m\u001b[0;34m\u001b[0m\u001b[0;34m\u001b[0m\u001b[0m\n\u001b[1;32m    277\u001b[0m         \u001b[0;32mif\u001b[0m \u001b[0;32mnot\u001b[0m \u001b[0mskipCheck\u001b[0m\u001b[0;34m:\u001b[0m\u001b[0;34m\u001b[0m\u001b[0;34m\u001b[0m\u001b[0m\n\u001b[0;32m--> 278\u001b[0;31m             \u001b[0mself\u001b[0m\u001b[0;34m.\u001b[0m\u001b[0m_errorCheck\u001b[0m\u001b[0;34m(\u001b[0m\u001b[0mres\u001b[0m\u001b[0;34m)\u001b[0m\u001b[0;34m\u001b[0m\u001b[0;34m\u001b[0m\u001b[0m\n\u001b[0m\u001b[1;32m    279\u001b[0m         \u001b[0;32mif\u001b[0m \u001b[0;32mnot\u001b[0m \u001b[0mresKey\u001b[0m\u001b[0;34m:\u001b[0m\u001b[0;34m\u001b[0m\u001b[0;34m\u001b[0m\u001b[0m\n\u001b[1;32m    280\u001b[0m             \u001b[0;32mif\u001b[0m \u001b[0mlogger\u001b[0m\u001b[0;34m.\u001b[0m\u001b[0mlevel\u001b[0m \u001b[0;34m==\u001b[0m \u001b[0mlogging\u001b[0m\u001b[0;34m.\u001b[0m\u001b[0mDEBUG\u001b[0m\u001b[0;34m:\u001b[0m\u001b[0;34m\u001b[0m\u001b[0;34m\u001b[0m\u001b[0m\n",
      "\u001b[0;32m~/opt/anaconda3/lib/python3.7/site-packages/pyTigerGraph/pyTigerGraphBase.py\u001b[0m in \u001b[0;36m_errorCheck\u001b[0;34m(self, res)\u001b[0m\n\u001b[1;32m    204\u001b[0m         \u001b[0;32mif\u001b[0m \u001b[0;34m\"error\"\u001b[0m \u001b[0;32min\u001b[0m \u001b[0mres\u001b[0m \u001b[0;32mand\u001b[0m \u001b[0mres\u001b[0m\u001b[0;34m[\u001b[0m\u001b[0;34m\"error\"\u001b[0m\u001b[0;34m]\u001b[0m \u001b[0;32mand\u001b[0m \u001b[0mres\u001b[0m\u001b[0;34m[\u001b[0m\u001b[0;34m\"error\"\u001b[0m\u001b[0;34m]\u001b[0m \u001b[0;34m!=\u001b[0m \u001b[0;34m\"false\"\u001b[0m\u001b[0;34m:\u001b[0m\u001b[0;34m\u001b[0m\u001b[0;34m\u001b[0m\u001b[0m\n\u001b[1;32m    205\u001b[0m             \u001b[0;31m# Endpoint might return string \"false\" rather than Boolean false\u001b[0m\u001b[0;34m\u001b[0m\u001b[0;34m\u001b[0m\u001b[0;34m\u001b[0m\u001b[0m\n\u001b[0;32m--> 206\u001b[0;31m             \u001b[0;32mraise\u001b[0m \u001b[0mTigerGraphException\u001b[0m\u001b[0;34m(\u001b[0m\u001b[0mres\u001b[0m\u001b[0;34m[\u001b[0m\u001b[0;34m\"message\"\u001b[0m\u001b[0;34m]\u001b[0m\u001b[0;34m,\u001b[0m \u001b[0;34m(\u001b[0m\u001b[0mres\u001b[0m\u001b[0;34m[\u001b[0m\u001b[0;34m\"code\"\u001b[0m\u001b[0;34m]\u001b[0m \u001b[0;32mif\u001b[0m \u001b[0;34m\"code\"\u001b[0m \u001b[0;32min\u001b[0m \u001b[0mres\u001b[0m \u001b[0;32melse\u001b[0m \u001b[0;32mNone\u001b[0m\u001b[0;34m)\u001b[0m\u001b[0;34m)\u001b[0m\u001b[0;34m\u001b[0m\u001b[0;34m\u001b[0m\u001b[0m\n\u001b[0m\u001b[1;32m    207\u001b[0m \u001b[0;34m\u001b[0m\u001b[0m\n\u001b[1;32m    208\u001b[0m     def _req(self, method: str, url: str, authMode: str = \"token\", headers: dict = None,\n",
      "\u001b[0;31mTigerGraphException\u001b[0m: (\"The graph name 'ETH_Transaction_Graph' parsed from the url = '/ddl/ETH_Transaction_Graph' is not found, please provide a valid graph name.\", 'REST-1004')"
     ]
    }
   ],
   "source": [
    "# Load the nodes file with the 'load_wallets' job\n",
    "posts_file = 'nodes.csv'\n",
    "results = conn.uploadFile(posts_file, fileTag='MyDataSource', jobName='load_wallets')\n",
    "print(json.dumps(results, indent=2))"
   ]
  },
  {
   "cell_type": "code",
   "execution_count": null,
   "metadata": {},
   "outputs": [],
   "source": [
    "# Load the edges file with the 'load_transactions' job\n",
    "posts_file = 'edges.csv'\n",
    "results = conn.uploadFile(posts_file, fileTag='MyDataSource', jobName='load_transactions')\n",
    "print(json.dumps(results, indent=2))"
   ]
  },
  {
   "attachments": {},
   "cell_type": "markdown",
   "metadata": {},
   "source": [
    "### Exploring the Graph"
   ]
  },
  {
   "cell_type": "code",
   "execution_count": null,
   "metadata": {},
   "outputs": [],
   "source": [
    "# TODO - ETHAN\n",
    "\n",
    "# write GSQL queries to get some summary statistics on edges/nodes\n",
    "# use this as reference: https://colab.research.google.com/drive/1JhYcnGVWT51KswcXZzyPzKqCoPP5htcC?usp=sharing#scrollTo=Zerob6pDgmq2 "
   ]
  },
  {
   "attachments": {},
   "cell_type": "markdown",
   "metadata": {},
   "source": [
    "### Delete Graph"
   ]
  },
  {
   "attachments": {},
   "cell_type": "markdown",
   "metadata": {},
   "source": [
    "DANGER!!! DON'T RUN THIS!!!!"
   ]
  },
  {
   "cell_type": "code",
   "execution_count": 13,
   "metadata": {},
   "outputs": [
    {
     "data": {
      "text/plain": [
       "'Dropping all, about 1 minute ...\\nAbort all active loading jobs\\nTry to abort all loading jobs on graph MyGraph, it may take a while ...\\n[ABORT_SUCCESS] No active Loading Job to abort.\\nResetting GPE...\\nSuccessfully reset GPE and GSE\\nStopping GPE GSE\\nSuccessfully stopped GPE GSE in 0.002 seconds\\nClearing graph store...\\nSuccessfully cleared graph store\\nStarting GPE GSE RESTPP\\nSuccessfully started GPE GSE RESTPP in 0.275 seconds\\nEverything is dropped.'"
      ]
     },
     "execution_count": 13,
     "metadata": {},
     "output_type": "execute_result"
    }
   ],
   "source": [
    "# conn.gsql('''\n",
    "# USE GLOBAL\n",
    "# DROP GRAPH MyGraph\n",
    "# ''')"
   ]
  }
 ],
 "metadata": {
  "kernelspec": {
   "display_name": "Python 3",
   "language": "python",
   "name": "python3"
  },
  "language_info": {
   "codemirror_mode": {
    "name": "ipython",
    "version": 3
   },
   "file_extension": ".py",
   "mimetype": "text/x-python",
   "name": "python",
   "nbconvert_exporter": "python",
   "pygments_lexer": "ipython3",
   "version": "3.7.6"
  },
  "orig_nbformat": 4
 },
 "nbformat": 4,
 "nbformat_minor": 2
}
