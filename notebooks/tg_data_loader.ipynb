{
 "cells": [
  {
   "cell_type": "code",
   "execution_count": 4,
   "metadata": {},
   "outputs": [
    {
     "name": "stdout",
     "output_type": "stream",
     "text": [
      "Connected\n"
     ]
    }
   ],
   "source": [
    "# setup\n",
    "# !pip install -U pyTigerGraph\n",
    "\n",
    "# Imports\n",
    "import pyTigerGraph as tg\n",
    "import json\n",
    "import pandas as pd\n",
    "import os\n",
    "\n",
    "# Connection parameters\n",
    "\n",
    "# TODO\n",
    "hostName = \"https://gsql-101.i.tgcloud.io\"\n",
    "userName = \"user_1\"\n",
    "password = \"Tz4Do8Ec4Ht0Ed2+\"\n",
    "\n",
    "conn = tg.TigerGraphConnection(host=hostName, username=userName, password=password, graphname=\"MyGraph\")\n",
    "\n",
    "print(\"Connected\") "
   ]
  },
  {
   "attachments": {},
   "cell_type": "markdown",
   "metadata": {},
   "source": [
    "### Define and Publish Graph Schema"
   ]
  },
  {
   "attachments": {},
   "cell_type": "markdown",
   "metadata": {},
   "source": [
    "Nodes = ETH Users/wallet addresses: ID, label <br />\n",
    "Directed Edges = Transaction flow: From_ID, To_ID, ETH_amount, timestamp"
   ]
  },
  {
   "cell_type": "code",
   "execution_count": null,
   "metadata": {},
   "outputs": [],
   "source": [
    "# DEFINE / CREATE ALL EDGES AND VERTICES \n",
    "results = conn.gsql('''\n",
    "  USE GLOBAL\n",
    "  CREATE VERTEX Wallet (PRIMARY_ID id STRING, label STRING) WITH primary_id_as_attribute=\"true\"\n",
    "  CREATE DIRECTED EDGE sent_eth (from Wallet, to Wallet, amount INT, sent_date DATETIME) WITH REVERSE_EDGE=\"reverse_sent_eth\"\n",
    "  CREATE DIRECTED EDGE received_eth (from Wallet, to Wallet, amount INT, receive_date DATETIME) WITH REVERSE_EDGE=\"reverse_received_eth\"\n",
    "''')\n",
    "print(results)"
   ]
  },
  {
   "attachments": {},
   "cell_type": "markdown",
   "metadata": {},
   "source": [
    "### Create the Ethereum Transaction Graph"
   ]
  },
  {
   "cell_type": "code",
   "execution_count": null,
   "metadata": {},
   "outputs": [],
   "source": [
    "results = conn.gsql('''\n",
    "  CREATE GRAPH MyGraph(Wallet, sent_eth, reverse_sent_eth, received_eth, reverse_received_eth)\n",
    "''')\n",
    "print(results)"
   ]
  },
  {
   "cell_type": "code",
   "execution_count": null,
   "metadata": {},
   "outputs": [],
   "source": [
    "conn.graphname=\"ETH_Transaction_Graph\"\n",
    "secret = conn.createSecret()\n",
    "authToken = conn.getToken(secret)\n",
    "authToken = authToken[0]\n",
    "print(authToken)\n",
    "# authToken = 'rc7reopbis1667ksgcppq5v5fb99p6s1'\n",
    "conn = tg.TigerGraphConnection(host=hostName, graphname=\"ETH_Transaction_Graph\", username=userName, password=password, apiToken=authToken)\n",
    "\n",
    "def pprint(string):\n",
    "  print(json.dumps(string, indent=2))"
   ]
  },
  {
   "attachments": {},
   "cell_type": "markdown",
   "metadata": {},
   "source": [
    "### Create Loading Jobs"
   ]
  },
  {
   "attachments": {},
   "cell_type": "markdown",
   "metadata": {},
   "source": [
    "#### Wallets"
   ]
  },
  {
   "cell_type": "code",
   "execution_count": null,
   "metadata": {},
   "outputs": [],
   "source": [
    "#TODO - change data/nodes.txt to nodes.csv?\n",
    "\n",
    "results = conn.gsql('''\n",
    "  USE GRAPH MyGraph\n",
    "  BEGIN\n",
    "  CREATE LOADING JOB load_wallets FOR GRAPH MyGraph {\n",
    "  DEFINE FILENAME MyDataSource;\n",
    "  LOAD MyDataSource TO VERTEX Wallet VALUES($0, $1) USING SEPARATOR=\",\", HEADER=\"true\", EOL=\"\\\\n\", QUOTE=\"double\";\n",
    "  }\n",
    "  END\n",
    "  ''')\n",
    "print(results)"
   ]
  },
  {
   "attachments": {},
   "cell_type": "markdown",
   "metadata": {},
   "source": [
    "#### Transactions"
   ]
  },
  {
   "cell_type": "code",
   "execution_count": null,
   "metadata": {},
   "outputs": [],
   "source": [
    "# TODO - change data/edges.txt to edges.csv?\n",
    "\n",
    "results = conn.gsql('''\n",
    "  USE GRAPH MyGraph\n",
    "  BEGIN\n",
    "  CREATE LOADING JOB load_transactions FOR GRAPH MyGraph {\n",
    "  DEFINE FILENAME MyDataSource;\n",
    "  LOAD MyDataSource TO EDGE sent_eth VALUES($3, $0, $4, $5) USING SEPARATOR=\",\", HEADER=\"true\", EOL=\"\\\\n\", QUOTE=\"double\";\n",
    "  LOAD MyDataSource TO EDGE received_eth VALUES($0, $4, $3, $5, $6) USING SEPARATOR=\",\", HEADER=\"true\", EOL=\"\\\\n\", QUOTE=\"double\";\n",
    "  }\n",
    "  END''')\n",
    "print(results)"
   ]
  },
  {
   "attachments": {},
   "cell_type": "markdown",
   "metadata": {},
   "source": [
    "### Load Data"
   ]
  },
  {
   "cell_type": "code",
   "execution_count": 26,
   "metadata": {},
   "outputs": [],
   "source": [
    "# os.chdir('/Users/stephengelinas/DSC180A-Q2-Project/data')\n",
    "# nodes = pd.read_csv(r'nodes.txt', header=None, sep=' ', names=['id','label'])\n",
    "# edges = pd.read_csv(r'edges.txt', header=None, names=['from', 'to', 'amount', 'timestamp'])\n",
    "# nodes.to_csv('nodes.csv')\n",
    "# edges.to_csv('edges.csv')"
   ]
  },
  {
   "cell_type": "code",
   "execution_count": null,
   "metadata": {},
   "outputs": [],
   "source": [
    "#TODO\n",
    "\n",
    "# Load the nodes file wiht the 'load_wallets' job\n",
    "posts_file = 'nodes.csv'\n",
    "results = conn.uploadFile(posts_file, fileTag='MyDataSource', jobName='load_wallets')\n",
    "print(json.dumps(results, indent=2))"
   ]
  },
  {
   "cell_type": "code",
   "execution_count": null,
   "metadata": {},
   "outputs": [],
   "source": [
    "# TODO\n",
    "\n",
    "# Load the edges file wiht the 'load_transactions' job\n",
    "posts_file = 'edges.csv'\n",
    "results = conn.uploadFile(posts_file, fileTag='MyDataSource', jobName='load_transactions')\n",
    "print(json.dumps(results, indent=2))"
   ]
  },
  {
   "attachments": {},
   "cell_type": "markdown",
   "metadata": {},
   "source": [
    "### Exploring the Graph"
   ]
  },
  {
   "cell_type": "code",
   "execution_count": null,
   "metadata": {},
   "outputs": [],
   "source": [
    "# TODO - ETHAN\n",
    "\n",
    "# write GSQL queries to get some summary statistics on edges/nodes\n",
    "# use this as reference: https://colab.research.google.com/drive/1JhYcnGVWT51KswcXZzyPzKqCoPP5htcC?usp=sharing#scrollTo=Zerob6pDgmq2 "
   ]
  },
  {
   "attachments": {},
   "cell_type": "markdown",
   "metadata": {},
   "source": [
    "### Clear Graph"
   ]
  },
  {
   "cell_type": "code",
   "execution_count": null,
   "metadata": {},
   "outputs": [],
   "source": [
    "# conn.gsql('''\n",
    "# USE GLOBAL\n",
    "# DROP ALL\n",
    "# ''')"
   ]
  }
 ],
 "metadata": {
  "kernelspec": {
   "display_name": "Python 3",
   "language": "python",
   "name": "python3"
  },
  "language_info": {
   "codemirror_mode": {
    "name": "ipython",
    "version": 3
   },
   "file_extension": ".py",
   "mimetype": "text/x-python",
   "name": "python",
   "nbconvert_exporter": "python",
   "pygments_lexer": "ipython3",
   "version": "3.7.6"
  },
  "orig_nbformat": 4
 },
 "nbformat": 4,
 "nbformat_minor": 2
}
